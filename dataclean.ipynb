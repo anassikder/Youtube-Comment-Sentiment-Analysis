{
 "cells": [
  {
   "cell_type": "code",
   "execution_count": null,
   "metadata": {},
   "outputs": [],
   "source": [
    "import re\n",
    "import pandas as pd\n",
    "csv1 = pd.read_csv('C:/Users/Anas/Downloads/sc dataset/vaccine - Sheet2.csv',encoding='utf-8', sep=',') \n",
    "csv2 = pd.read_csv('C:/Users/Anas/Downloads/sc dataset/ps5 - Sheet2.csv',encoding='utf-8', sep=',') \n",
    "csv3 = pd.read_csv('C:/Users/Anas/Downloads/sc dataset/liverpool - Sheet2.csv',encoding='utf-8', sep=',') \n",
    "csv4 = pd.read_csv('C:/Users/Anas/Downloads/sc dataset/d-day - Sheet2.csv',encoding='utf-8', sep=',') \n",
    "csv5 = pd.read_csv('C:/Users/Anas/Downloads/sc dataset/9to5mac - Sheet2.csv',encoding='utf-8', sep=',') \n",
    "csv6 = pd.read_csv('C:/Users/Anas/Downloads/sc dataset/bean - Sheet2.csv',encoding='utf-8', sep=',') \n",
    "csv6.shape"
   ]
  },
  {
   "cell_type": "code",
   "execution_count": null,
   "metadata": {},
   "outputs": [],
   "source": [
    "import re\n",
    "import pandas as pd\n",
    "csv_ = pd.read_csv('C:/Users/Anas/Downloads/sc dataset/depression - Sheet2.csv',encoding='utf-8', sep=',')\n"
   ]
  },
  {
   "cell_type": "code",
   "execution_count": null,
   "metadata": {},
   "outputs": [],
   "source": [
    "csv= pd.concat([csv1,csv2,csv3,csv4,csv5,csv6],axis=0)\n",
    "#print(csv)\n",
    "data = csv.sample(frac = 1) \n",
    "#print(data)\n",
    "data.to_csv('C:/Users/Anas/Downloads/sc dataset/dataset.csv',index=False, encoding='utf-8')"
   ]
  },
  {
   "cell_type": "code",
   "execution_count": null,
   "metadata": {},
   "outputs": [],
   "source": [
    "csv_ = pd.read_csv('C:/Users/Anas/Downloads/sc dataset/dataset.csv',encoding='utf-8', sep=',') "
   ]
  },
  {
   "cell_type": "code",
   "execution_count": null,
   "metadata": {},
   "outputs": [],
   "source": [
    "import re\n",
    "import pandas as pd\n",
    "def remove_emoji(string):\n",
    "    emoji_pattern = re.compile(\"[\"\n",
    "                               u\"\\U0001F600-\\U0001F64F\"  # emoticons\n",
    "                               u\"\\U0001F300-\\U0001F5FF\"  # symbols & pictographs\n",
    "                               u\"\\U0001F680-\\U0001F6FF\"  # transport & map symbols\n",
    "                               u\"\\U0001F1E0-\\U0001F1FF\"  # flags (iOS)\n",
    "                               u\"\\U00002500-\\U00002BEF\"  # chinese char\n",
    "                               u\"\\U00002702-\\U000027B0\"\n",
    "                               u\"\\U00002702-\\U000027B0\"\n",
    "                               u\"\\U000024C2-\\U0001F251\"\n",
    "                               u\"\\U0001f926-\\U0001f937\"\n",
    "                               u\"\\U00010000-\\U0010ffff\"\n",
    "                               u\"\\u2640-\\u2642\"\n",
    "                               u\"\\u2600-\\u2B55\"\n",
    "                               u\"\\u200d\"\n",
    "                               u\"\\u23cf\"\n",
    "                               u\"\\u23e9\"\n",
    "                               u\"\\u231a\"\n",
    "                               u\"\\ufe0f\"  # dingbats\n",
    "                               u\"\\u3030\"\n",
    "                               \"]+\", flags=re.UNICODE)\n",
    "    return emoji_pattern.sub(r'', string)"
   ]
  },
  {
   "cell_type": "code",
   "execution_count": null,
   "metadata": {},
   "outputs": [],
   "source": [
    "csv_[u'Comment'] = csv_[u'Comment'].astype(str)\n",
    "csv_[u'Comment'] = csv_[u'Comment'].apply(lambda x:remove_emoji(x))\n",
    "#data.to_csv('C:/Users/Anas/Downloads/sc dataset/dataset_.csv',index=False, encoding='utf-8')\n",
    "csv_.to_csv('C:/Users/Anas/Downloads/sc dataset/depression - Sheet2.csv',index=False, encoding='utf-8')"
   ]
  },
  {
   "cell_type": "code",
   "execution_count": null,
   "metadata": {},
   "outputs": [],
   "source": [
    "import nltk \n",
    "nltk.download('words')\n",
    "words = set(nltk.corpus.words.words())\n",
    "t = \"Io andiamo to the beach with my amico.\"\n",
    "#sent = \"Io andiamo to the beach with my amico.\"\n",
    "sent = \" \".join(w for w in nltk.wordpunct_tokenize(t) if w.lower() in words or not w.isalpha())"
   ]
  },
  {
   "cell_type": "code",
   "execution_count": null,
   "metadata": {},
   "outputs": [],
   "source": [
    "sent"
   ]
  },
  {
   "cell_type": "code",
   "execution_count": null,
   "metadata": {},
   "outputs": [],
   "source": [
    "import re\n",
    "import pandas as pd\n",
    "from nltk.tokenize import word_tokenize\n",
    "from string import punctuation \n",
    "from nltk.corpus import stopwords \n",
    "import nltk\n",
    "nltk.download('punkt')\n",
    "nltk.download('stopwords')\n",
    "nltk.download('wordnet')\n",
    "#nltk.download('words')\n",
    "        \n",
    "\n",
    "def preprocess(text):\n",
    "  #text = text.lower()\n",
    "  text = re.sub('((www\\.[^\\s]+)|(https?://[^\\s]+))', 'URL', text) # remove URLs\n",
    "  text = re.sub('<.*?>', '', text)   # remove HTML tags)\n",
    "  text = re.sub(r\"china\", \"China\", text\n",
    "  text = re.sub(r\"chinese\", \"Chinese\", text)\n",
    "  text = re.sub(r\"india\", \"India\", text)\n",
    "  text = re.sub(r\" J K \", \" JK \", text)\n",
    "  text = re.sub('@(\\w+)',\"\", text ) # remove usernames\n",
    "  text = re.sub(r\"[#|_]\", '', text) # remove the # in #hashtag\n",
    "  text = word_tokenize(text) # remove repeated characters (helloooooooo into hello)\n",
    "  \n",
    " \n",
    "    \n",
    "  return text"
   ]
  },
  {
   "cell_type": "code",
   "execution_count": null,
   "metadata": {},
   "outputs": [],
   "source": [
    "dt = pd.read_csv('C:/Users/Anas/Downloads/sc dataset/depression - Sheet2.csv',encoding='utf-8', sep=',')"
   ]
  },
  {
   "cell_type": "code",
   "execution_count": null,
   "metadata": {},
   "outputs": [],
   "source": [
    "dt = pd.read_csv(\"C:/Users/Anas/Downloads/sc dataset/dataset_.csv\")"
   ]
  },
  {
   "cell_type": "code",
   "execution_count": null,
   "metadata": {},
   "outputs": [],
   "source": [
    "dt.Comment=dt.Comment.astype(str)"
   ]
  },
  {
   "cell_type": "code",
   "execution_count": null,
   "metadata": {},
   "outputs": [],
   "source": [
    "%time dt['Comment'] = dt['Comment'].apply(lambda x: preprocess(x))"
   ]
  },
  {
   "cell_type": "code",
   "execution_count": null,
   "metadata": {},
   "outputs": [],
   "source": [
    "%time dt['Comment'] = dt.Comment.apply(lambda x: ' '.join([str(i) for i in x]))"
   ]
  },
  {
   "cell_type": "code",
   "execution_count": null,
   "metadata": {},
   "outputs": [],
   "source": [
    "dt.shape"
   ]
  },
  {
   "cell_type": "code",
   "execution_count": null,
   "metadata": {},
   "outputs": [],
   "source": [
    "dt = dt.sample(frac = 1)"
   ]
  },
  {
   "cell_type": "code",
   "execution_count": null,
   "metadata": {},
   "outputs": [],
   "source": [
    "dt = dt.reset_index(drop=True)"
   ]
  },
  {
   "cell_type": "code",
   "execution_count": null,
   "metadata": {},
   "outputs": [],
   "source": [
    "dt1 = dt.head(3880)\n",
    "dt2 =dt.tail(3879)"
   ]
  },
  {
   "cell_type": "code",
   "execution_count": null,
   "metadata": {},
   "outputs": [],
   "source": [
    "dt1.to_csv('C:/Users/Anas/Downloads/sc dataset/depression_1.csv',index=False, encoding='utf-8')\n",
    "dt2.to_csv('C:/Users/Anas/Downloads/sc dataset/depression_2.csv',index=False, encoding='utf-8')"
   ]
  },
  {
   "cell_type": "code",
   "execution_count": null,
   "metadata": {},
   "outputs": [],
   "source": [
    "dtt1 = pd.read_csv(\"C:/Users/Anas/Downloads/sc dataset/depression_1.csv\")\n",
    "dtt2 = pd.read_csv(\"C:/Users/Anas/Downloads/sc dataset/depression_2.csv\")"
   ]
  },
  {
   "cell_type": "code",
   "execution_count": null,
   "metadata": {},
   "outputs": [],
   "source": [
    "a = dtt1.Comment.str.len()\n",
    "a.max()"
   ]
  },
  {
   "cell_type": "code",
   "execution_count": null,
   "metadata": {},
   "outputs": [],
   "source": [
    "for i in range(len(dtt1.Comment)):\n",
    "    if(a[i]>250 or a[i]<60):\n",
    "        print(dtt1.Comment[i])\n",
    "        #dt.drop(i)\n",
    "        dtt1.drop(i, inplace=True)\n",
    "        "
   ]
  },
  {
   "cell_type": "code",
   "execution_count": null,
   "metadata": {},
   "outputs": [],
   "source": [
    "b= dtt2.Comment.str.len()\n",
    "b.max()\n"
   ]
  },
  {
   "cell_type": "code",
   "execution_count": null,
   "metadata": {},
   "outputs": [],
   "source": [
    "for i in range(len(dtt2.Comment)):\n",
    "    if(b[i]<12 or b[i]>60):\n",
    "        print(dtt2.Comment[i])\n",
    "        #dt.drop(i)\n",
    "        dtt2.drop(i, inplace=True)\n",
    "        "
   ]
  },
  {
   "cell_type": "code",
   "execution_count": null,
   "metadata": {},
   "outputs": [],
   "source": [
    "ab= pd.concat([dtt1,dtt2],axis=0)"
   ]
  },
  {
   "cell_type": "code",
   "execution_count": null,
   "metadata": {},
   "outputs": [],
   "source": [
    "ab.shape"
   ]
  },
  {
   "cell_type": "code",
   "execution_count": null,
   "metadata": {},
   "outputs": [],
   "source": [
    "da = ab.sample(frac = 1)"
   ]
  },
  {
   "cell_type": "code",
   "execution_count": null,
   "metadata": {},
   "outputs": [],
   "source": [
    "dac = da.Comment"
   ]
  },
  {
   "cell_type": "code",
   "execution_count": null,
   "metadata": {},
   "outputs": [],
   "source": [
    "dac"
   ]
  },
  {
   "cell_type": "code",
   "execution_count": null,
   "metadata": {},
   "outputs": [],
   "source": [
    "dac.to_csv('C:/Users/Anas/Downloads/sc dataset/depression_f.csv',index=False, encoding='utf-8')"
   ]
  },
  {
   "cell_type": "code",
   "execution_count": null,
   "metadata": {},
   "outputs": [],
   "source": [
    "dataset = pd.read_csv('C:/Users/Anas/Downloads/sc dataset/depression_f.csv',encoding='utf-8', sep=',') "
   ]
  },
  {
   "cell_type": "code",
   "execution_count": null,
   "metadata": {},
   "outputs": [],
   "source": [
    "dataset = dataset.dropna() \n"
   ]
  },
  {
   "cell_type": "code",
   "execution_count": null,
   "metadata": {},
   "outputs": [],
   "source": [
    "dataset = dataset.sample(frac = 1)"
   ]
  },
  {
   "cell_type": "code",
   "execution_count": null,
   "metadata": {},
   "outputs": [],
   "source": [
    "dataset = dataset.head(500)"
   ]
  },
  {
   "cell_type": "code",
   "execution_count": null,
   "metadata": {},
   "outputs": [],
   "source": [
    "dataset = dataset.reset_index(drop=True)"
   ]
  },
  {
   "cell_type": "code",
   "execution_count": null,
   "metadata": {},
   "outputs": [],
   "source": [
    "dataset"
   ]
  },
  {
   "cell_type": "code",
   "execution_count": null,
   "metadata": {},
   "outputs": [],
   "source": [
    "dataset.to_csv('C:/Users/Anas/Downloads/sc dataset/depression_f1.csv',index=False, encoding='utf-8')"
   ]
  },
  {
   "cell_type": "code",
   "execution_count": null,
   "metadata": {},
   "outputs": [],
   "source": [
    "dx = pd.read_csv('C:/Users/Anas/Downloads/sc dataset/dset.csv',encoding='utf-8', sep=',') "
   ]
  },
  {
   "cell_type": "code",
   "execution_count": null,
   "metadata": {},
   "outputs": [],
   "source": [
    "dx1 =dx.head(3865)"
   ]
  },
  {
   "cell_type": "code",
   "execution_count": null,
   "metadata": {},
   "outputs": [],
   "source": [
    "dx1.shape"
   ]
  },
  {
   "cell_type": "code",
   "execution_count": null,
   "metadata": {},
   "outputs": [],
   "source": [
    "dx1.to_csv('C:/Users/Anas/Downloads/sc dataset/data3200.csv',index=False, encoding='utf-8')"
   ]
  },
  {
   "cell_type": "code",
   "execution_count": null,
   "metadata": {},
   "outputs": [],
   "source": [
    "import re\n",
    "import pandas as pd\n",
    "def remove_emoji(string):\n",
    "    emoji_pattern = re.compile(\"[\"\n",
    "                               u\"\\U0001F600-\\U0001F64F\"  # emoticons\n",
    "                               u\"\\U0001F300-\\U0001F5FF\"  # symbols & pictographs\n",
    "                               u\"\\U0001F680-\\U0001F6FF\"  # transport & map symbols\n",
    "                               u\"\\U0001F1E0-\\U0001F1FF\"  # flags (iOS)\n",
    "                               u\"\\U00002500-\\U00002BEF\"  # chinese char\n",
    "                               u\"\\U00002702-\\U000027B0\"\n",
    "                               u\"\\U00002702-\\U000027B0\"\n",
    "                               u\"\\U000024C2-\\U0001F251\"\n",
    "                               u\"\\U0001f926-\\U0001f937\"\n",
    "                               u\"\\U00010000-\\U0010ffff\"\n",
    "                               u\"\\u2640-\\u2642\"\n",
    "                               u\"\\u2600-\\u2B55\"\n",
    "                               u\"\\u200d\"\n",
    "                               u\"\\u23cf\"\n",
    "                               u\"\\u23e9\"\n",
    "                               u\"\\u231a\"\n",
    "                               u\"\\ufe0f\"  # dingbats\n",
    "                               u\"\\u3030\"\n",
    "                               \"]+\", flags=re.UNICODE)\n",
    "    return emoji_pattern.sub(r'', string)\n",
    " \n",
    "data = pd.read_csv('C:/Users/Anas/Desktop/iphone11 - Sheet2.csv',encoding='utf-8', sep=',') # read tsv file\n",
    "print(data['Comment'])\n",
    " \n",
    "data[u'Comment'] = data[u'Comment'].astype(str)\n",
    "data[u'Comment'] = data[u'Comment'].apply(lambda x:remove_emoji(x))\n",
    "data.to_csv('C:/Users/Anas/Desktop/iphone11-Sheet2_dem.csv',index=False, encoding='utf-8')"
   ]
  },
  {
   "cell_type": "code",
   "execution_count": null,
   "metadata": {},
   "outputs": [],
   "source": [
    "pip install langdetect"
   ]
  },
  {
   "cell_type": "code",
   "execution_count": null,
   "metadata": {},
   "outputs": [],
   "source": [
    "import re\n",
    "import pandas as pd\n",
    "from nltk.tokenize import word_tokenize\n",
    "from string import punctuation \n",
    "from nltk.corpus import stopwords \n",
    "import nltk\n",
    "nltk.download('punkt')\n",
    "nltk.download('stopwords')\n",
    "nltk.download('wordnet')\n",
    "        \n",
    "\n",
    "def preprocess(text):\n",
    "  text = text.lower()\n",
    "  #text = re.sub('((www\\.[^\\s]+)|(https?://[^\\s]+))', 'URL', text) # remove URLs\n",
    "  text = re.sub('<.*?>', '', text)   # remove HTML tags\n",
    "  text = re.sub(r'[^\\w\\s]', '', text) # remove punc\n",
    "  text = re.sub(r'\\d+','',text)# remove numbers\n",
    "  #text = re.sub(r\"[.?!]\", '', text) \n",
    "  #text = re.sub('[0-9]+', '', text)\n",
    "  text = re.sub('@(\\w+)',\"\", text ) # remove usernames\n",
    "  text = re.sub(r\"[#|_]\", '', text) # remove the # in #hashtag\n",
    "  text = word_tokenize(text) # remove repeated characters (helloooooooo into hello)\n",
    "  \n",
    "  #removing stopwords and puncuations\n",
    "  mystopword = set(nltk.corpus.stopwords.words('english') + ['URL'])\n",
    "  text = [word for word in text if word not in mystopword]\n",
    "  text = [word for word in text if word not in punctuation]\n",
    "\n",
    "  # mystopwords = set(stopwords.words('english') + list(punctuation) + ['URL'])\n",
    "    \n",
    "  #apply lemmatizing\n",
    "  wn = nltk.WordNetLemmatizer()\n",
    "  text = [wn.lemmatize(word) for word in text]\n",
    "\n",
    "\n",
    "  #apply stemming\n",
    "  ps = nltk.PorterStemmer()\n",
    "  text = [ps.stem(word) for word in text]\n",
    "  \n",
    "  return text"
   ]
  },
  {
   "cell_type": "code",
   "execution_count": null,
   "metadata": {},
   "outputs": [],
   "source": [
    "dt = pd.read_csv(\"C:/Users/Anas/Desktop/iphone11-Sheet2_dem.csv\")"
   ]
  },
  {
   "cell_type": "code",
   "execution_count": null,
   "metadata": {},
   "outputs": [],
   "source": [
    "dt.Comment=dt.Comment.astype(str)"
   ]
  },
  {
   "cell_type": "code",
   "execution_count": null,
   "metadata": {},
   "outputs": [],
   "source": [
    "%time dt['Comment'] = dt['Comment'].apply(lambda x: preprocess(x))"
   ]
  },
  {
   "cell_type": "code",
   "execution_count": null,
   "metadata": {},
   "outputs": [],
   "source": [
    "%time dt['Comment'] = dt.Comment.apply(lambda x: ' '.join([str(i) for i in x]))"
   ]
  },
  {
   "cell_type": "code",
   "execution_count": null,
   "metadata": {},
   "outputs": [],
   "source": [
    "a= dt.Comment.str.len()\n",
    "\n"
   ]
  },
  {
   "cell_type": "code",
   "execution_count": null,
   "metadata": {},
   "outputs": [],
   "source": [
    "\n",
    "for i in range(len(dt.Comment)):\n",
    "    if(a[i]<50):\n",
    "        print(dt.Comment[i])\n",
    "        #dt.drop(i)\n",
    "        dt.drop(i, inplace=True)\n",
    "        "
   ]
  },
  {
   "cell_type": "code",
   "execution_count": null,
   "metadata": {},
   "outputs": [],
   "source": [
    "dt.to_csv('C:/Users/Anas/Desktop/iphone11-Sheet2_dem3.csv',index=False, encoding='utf-8')"
   ]
  },
  {
   "cell_type": "code",
   "execution_count": null,
   "metadata": {},
   "outputs": [],
   "source": [
    "dt.shape"
   ]
  },
  {
   "cell_type": "code",
   "execution_count": null,
   "metadata": {},
   "outputs": [],
   "source": [
    "import pandas as pd\n",
    "d = pd.read_csv('C:/Users/Anas/Desktop/final1 - Sheet1.csv')\n",
    "\n"
   ]
  },
  {
   "cell_type": "code",
   "execution_count": null,
   "metadata": {},
   "outputs": [],
   "source": [
    "dtn=dt.Comment.to_numpy()\n",
    "print(len(dtn))"
   ]
  },
  {
   "cell_type": "code",
   "execution_count": null,
   "metadata": {},
   "outputs": [],
   "source": [
    "for i in range(len(dtn)):\n",
    "    d.text[i] = dtn[i]\n",
    "\n"
   ]
  },
  {
   "cell_type": "code",
   "execution_count": null,
   "metadata": {},
   "outputs": [],
   "source": [
    "d"
   ]
  },
  {
   "cell_type": "code",
   "execution_count": null,
   "metadata": {},
   "outputs": [],
   "source": [
    "d.reindex(d.columns + ['label','anas','billa','rupu'], axis=1)"
   ]
  },
  {
   "cell_type": "code",
   "execution_count": null,
   "metadata": {},
   "outputs": [],
   "source": [
    "d.to_csv('C:/Users/Anas/Desktop/xx.csv')"
   ]
  },
  {
   "cell_type": "code",
   "execution_count": null,
   "metadata": {},
   "outputs": [],
   "source": [
    "df = pd.DataFrame(dict(A=[5,3,5,6], C=[\"foo\",\"bar\",\"fooXYZbar\", \"bat\"]))\n",
    "\n",
    "\n",
    "df=df[~df.C.str.contains(\"foobar\")]\n",
    "df\n",
    "\n",
    "\n"
   ]
  },
  {
   "cell_type": "code",
   "execution_count": 1,
   "metadata": {},
   "outputs": [],
   "source": [
    "import pandas as pd\n",
    "x1 = pd.read_csv('C:/Users/Anas/Downloads/sc dataset/xxxx.csv',encoding='utf-8', sep=',') "
   ]
  },
  {
   "cell_type": "code",
   "execution_count": null,
   "metadata": {},
   "outputs": [],
   "source": [
    "x1=x1.head(296)"
   ]
  },
  {
   "cell_type": "code",
   "execution_count": null,
   "metadata": {},
   "outputs": [],
   "source": [
    "x1"
   ]
  },
  {
   "cell_type": "code",
   "execution_count": 3,
   "metadata": {},
   "outputs": [],
   "source": [
    "import pandas as pd\n",
    "x2 = pd.read_csv('C:/Users/Anas/Downloads/sc dataset/xxx.csv',encoding='utf-8', sep=',') "
   ]
  },
  {
   "cell_type": "code",
   "execution_count": null,
   "metadata": {},
   "outputs": [],
   "source": [
    "x2 = x2.head(1008)"
   ]
  },
  {
   "cell_type": "code",
   "execution_count": null,
   "metadata": {},
   "outputs": [],
   "source": [
    "x1.to_csv('C:/Users/Anas/Downloads/sc dataset/a1.csv',index=False, encoding='utf-8')"
   ]
  },
  {
   "cell_type": "code",
   "execution_count": null,
   "metadata": {},
   "outputs": [],
   "source": [
    "x2.to_csv('C:/Users/Anas/Downloads/sc dataset/a2.csv',index=False, encoding='utf-8')"
   ]
  },
  {
   "cell_type": "code",
   "execution_count": 4,
   "metadata": {},
   "outputs": [],
   "source": [
    "a1 = pd.read_csv('C:/Users/Anas/Downloads/sc dataset/a1.csv',encoding='utf-8', sep=',') "
   ]
  },
  {
   "cell_type": "code",
   "execution_count": 5,
   "metadata": {},
   "outputs": [],
   "source": [
    "a2 = pd.read_csv('C:/Users/Anas/Downloads/sc dataset/a2.csv',encoding='utf-8', sep=',') "
   ]
  },
  {
   "cell_type": "code",
   "execution_count": 6,
   "metadata": {},
   "outputs": [
    {
     "data": {
      "text/html": [
       "<div>\n",
       "<style scoped>\n",
       "    .dataframe tbody tr th:only-of-type {\n",
       "        vertical-align: middle;\n",
       "    }\n",
       "\n",
       "    .dataframe tbody tr th {\n",
       "        vertical-align: top;\n",
       "    }\n",
       "\n",
       "    .dataframe thead th {\n",
       "        text-align: right;\n",
       "    }\n",
       "</style>\n",
       "<table border=\"1\" class=\"dataframe\">\n",
       "  <thead>\n",
       "    <tr style=\"text-align: right;\">\n",
       "      <th></th>\n",
       "      <th>text</th>\n",
       "      <th>anas</th>\n",
       "      <th>billa</th>\n",
       "      <th>rupu</th>\n",
       "      <th>label</th>\n",
       "    </tr>\n",
       "  </thead>\n",
       "  <tbody>\n",
       "    <tr>\n",
       "      <th>0</th>\n",
       "      <td>Well i think ps5 is better</td>\n",
       "      <td>1.0</td>\n",
       "      <td>1.0</td>\n",
       "      <td>1.0</td>\n",
       "      <td>1.0</td>\n",
       "    </tr>\n",
       "    <tr>\n",
       "      <th>1</th>\n",
       "      <td>Now i know ... Gon na share this video .</td>\n",
       "      <td>1.0</td>\n",
       "      <td>1.0</td>\n",
       "      <td>1.0</td>\n",
       "      <td>1.0</td>\n",
       "    </tr>\n",
       "    <tr>\n",
       "      <th>2</th>\n",
       "      <td>Fidelity mode and performance mode ? ? I think...</td>\n",
       "      <td>1.0</td>\n",
       "      <td>1.0</td>\n",
       "      <td>1.0</td>\n",
       "      <td>1.0</td>\n",
       "    </tr>\n",
       "    <tr>\n",
       "      <th>3</th>\n",
       "      <td>Australia ’ s were in d day</td>\n",
       "      <td>1.0</td>\n",
       "      <td>1.0</td>\n",
       "      <td>1.0</td>\n",
       "      <td>1.0</td>\n",
       "    </tr>\n",
       "    <tr>\n",
       "      <th>4</th>\n",
       "      <td>So are vaccine injury courts</td>\n",
       "      <td>0.0</td>\n",
       "      <td>0.0</td>\n",
       "      <td>0.0</td>\n",
       "      <td>0.0</td>\n",
       "    </tr>\n",
       "    <tr>\n",
       "      <th>...</th>\n",
       "      <td>...</td>\n",
       "      <td>...</td>\n",
       "      <td>...</td>\n",
       "      <td>...</td>\n",
       "      <td>...</td>\n",
       "    </tr>\n",
       "    <tr>\n",
       "      <th>1003</th>\n",
       "      <td>YES D-DAY I LOVE STUDYING THIS ! ! ! ! ! ! !</td>\n",
       "      <td>1.0</td>\n",
       "      <td>1.0</td>\n",
       "      <td>1.0</td>\n",
       "      <td>1.0</td>\n",
       "    </tr>\n",
       "    <tr>\n",
       "      <th>1004</th>\n",
       "      <td>Green iPhone 11</td>\n",
       "      <td>1.0</td>\n",
       "      <td>1.0</td>\n",
       "      <td>0.0</td>\n",
       "      <td>1.0</td>\n",
       "    </tr>\n",
       "    <tr>\n",
       "      <th>1005</th>\n",
       "      <td>Nothing to worry about , if you have a serious...</td>\n",
       "      <td>0.0</td>\n",
       "      <td>0.0</td>\n",
       "      <td>0.0</td>\n",
       "      <td>0.0</td>\n",
       "    </tr>\n",
       "    <tr>\n",
       "      <th>1006</th>\n",
       "      <td>75th anniversary of D-Day</td>\n",
       "      <td>1.0</td>\n",
       "      <td>1.0</td>\n",
       "      <td>1.0</td>\n",
       "      <td>1.0</td>\n",
       "    </tr>\n",
       "    <tr>\n",
       "      <th>1007</th>\n",
       "      <td>Well done to the boys ! ! ! Well deserve by far !</td>\n",
       "      <td>1.0</td>\n",
       "      <td>1.0</td>\n",
       "      <td>1.0</td>\n",
       "      <td>1.0</td>\n",
       "    </tr>\n",
       "  </tbody>\n",
       "</table>\n",
       "<p>1008 rows × 5 columns</p>\n",
       "</div>"
      ],
      "text/plain": [
       "                                                   text  anas  billa  rupu  \\\n",
       "0                            Well i think ps5 is better   1.0    1.0   1.0   \n",
       "1              Now i know ... Gon na share this video .   1.0    1.0   1.0   \n",
       "2     Fidelity mode and performance mode ? ? I think...   1.0    1.0   1.0   \n",
       "3                           Australia ’ s were in d day   1.0    1.0   1.0   \n",
       "4                          So are vaccine injury courts   0.0    0.0   0.0   \n",
       "...                                                 ...   ...    ...   ...   \n",
       "1003       YES D-DAY I LOVE STUDYING THIS ! ! ! ! ! ! !   1.0    1.0   1.0   \n",
       "1004                                    Green iPhone 11   1.0    1.0   0.0   \n",
       "1005  Nothing to worry about , if you have a serious...   0.0    0.0   0.0   \n",
       "1006                          75th anniversary of D-Day   1.0    1.0   1.0   \n",
       "1007  Well done to the boys ! ! ! Well deserve by far !   1.0    1.0   1.0   \n",
       "\n",
       "      label  \n",
       "0       1.0  \n",
       "1       1.0  \n",
       "2       1.0  \n",
       "3       1.0  \n",
       "4       0.0  \n",
       "...     ...  \n",
       "1003    1.0  \n",
       "1004    1.0  \n",
       "1005    0.0  \n",
       "1006    1.0  \n",
       "1007    1.0  \n",
       "\n",
       "[1008 rows x 5 columns]"
      ]
     },
     "execution_count": 6,
     "metadata": {},
     "output_type": "execute_result"
    }
   ],
   "source": [
    "a2"
   ]
  },
  {
   "cell_type": "code",
   "execution_count": 7,
   "metadata": {},
   "outputs": [],
   "source": [
    "aa= pd.concat([a1,a2],axis=0)\n",
    "aaa = aa.sample(frac = 1) "
   ]
  },
  {
   "cell_type": "code",
   "execution_count": 8,
   "metadata": {},
   "outputs": [
    {
     "data": {
      "text/html": [
       "<div>\n",
       "<style scoped>\n",
       "    .dataframe tbody tr th:only-of-type {\n",
       "        vertical-align: middle;\n",
       "    }\n",
       "\n",
       "    .dataframe tbody tr th {\n",
       "        vertical-align: top;\n",
       "    }\n",
       "\n",
       "    .dataframe thead th {\n",
       "        text-align: right;\n",
       "    }\n",
       "</style>\n",
       "<table border=\"1\" class=\"dataframe\">\n",
       "  <thead>\n",
       "    <tr style=\"text-align: right;\">\n",
       "      <th></th>\n",
       "      <th>text</th>\n",
       "      <th>anas</th>\n",
       "      <th>billa</th>\n",
       "      <th>rupu</th>\n",
       "      <th>label</th>\n",
       "    </tr>\n",
       "  </thead>\n",
       "  <tbody>\n",
       "    <tr>\n",
       "      <th>198</th>\n",
       "      <td>I miss being healthy . I ’ m alway in pain , b...</td>\n",
       "      <td>0.0</td>\n",
       "      <td>0.0</td>\n",
       "      <td>0.0</td>\n",
       "      <td>0.0</td>\n",
       "    </tr>\n",
       "    <tr>\n",
       "      <th>380</th>\n",
       "      <td>Mr bean fan from India</td>\n",
       "      <td>1.0</td>\n",
       "      <td>1.0</td>\n",
       "      <td>1.0</td>\n",
       "      <td>1.0</td>\n",
       "    </tr>\n",
       "    <tr>\n",
       "      <th>239</th>\n",
       "      <td>I like the view ,  the reason why iwant to go ...</td>\n",
       "      <td>1.0</td>\n",
       "      <td>1.0</td>\n",
       "      <td>1.0</td>\n",
       "      <td>1.0</td>\n",
       "    </tr>\n",
       "    <tr>\n",
       "      <th>693</th>\n",
       "      <td>I ’ ll get the ps5 slim . Instead of that spac...</td>\n",
       "      <td>0.0</td>\n",
       "      <td>1.0</td>\n",
       "      <td>0.0</td>\n",
       "      <td>0.0</td>\n",
       "    </tr>\n",
       "    <tr>\n",
       "      <th>595</th>\n",
       "      <td>Americans who think they did it all bruv smh ....</td>\n",
       "      <td>0.0</td>\n",
       "      <td>0.0</td>\n",
       "      <td>0.0</td>\n",
       "      <td>0.0</td>\n",
       "    </tr>\n",
       "    <tr>\n",
       "      <th>...</th>\n",
       "      <td>...</td>\n",
       "      <td>...</td>\n",
       "      <td>...</td>\n",
       "      <td>...</td>\n",
       "      <td>...</td>\n",
       "    </tr>\n",
       "    <tr>\n",
       "      <th>613</th>\n",
       "      <td>If they have to get rappers and pay media outl...</td>\n",
       "      <td>0.0</td>\n",
       "      <td>0.0</td>\n",
       "      <td>0.0</td>\n",
       "      <td>0.0</td>\n",
       "    </tr>\n",
       "    <tr>\n",
       "      <th>810</th>\n",
       "      <td>I mean this is vox if the government said hey ...</td>\n",
       "      <td>0.0</td>\n",
       "      <td>0.0</td>\n",
       "      <td>0.0</td>\n",
       "      <td>0.0</td>\n",
       "    </tr>\n",
       "    <tr>\n",
       "      <th>138</th>\n",
       "      <td>I am getting an iPhone 11 soon and I am watchi...</td>\n",
       "      <td>1.0</td>\n",
       "      <td>1.0</td>\n",
       "      <td>1.0</td>\n",
       "      <td>1.0</td>\n",
       "    </tr>\n",
       "    <tr>\n",
       "      <th>935</th>\n",
       "      <td>Hope to buy this . But where has the money ...</td>\n",
       "      <td>0.0</td>\n",
       "      <td>0.0</td>\n",
       "      <td>0.0</td>\n",
       "      <td>0.0</td>\n",
       "    </tr>\n",
       "    <tr>\n",
       "      <th>169</th>\n",
       "      <td>I &amp; 39 ; m finding that I have all of the symp...</td>\n",
       "      <td>0.0</td>\n",
       "      <td>0.0</td>\n",
       "      <td>0.0</td>\n",
       "      <td>0.0</td>\n",
       "    </tr>\n",
       "  </tbody>\n",
       "</table>\n",
       "<p>1304 rows × 5 columns</p>\n",
       "</div>"
      ],
      "text/plain": [
       "                                                  text  anas  billa  rupu  \\\n",
       "198  I miss being healthy . I ’ m alway in pain , b...   0.0    0.0   0.0   \n",
       "380                             Mr bean fan from India   1.0    1.0   1.0   \n",
       "239  I like the view ,  the reason why iwant to go ...   1.0    1.0   1.0   \n",
       "693  I ’ ll get the ps5 slim . Instead of that spac...   0.0    1.0   0.0   \n",
       "595  Americans who think they did it all bruv smh ....   0.0    0.0   0.0   \n",
       "..                                                 ...   ...    ...   ...   \n",
       "613  If they have to get rappers and pay media outl...   0.0    0.0   0.0   \n",
       "810  I mean this is vox if the government said hey ...   0.0    0.0   0.0   \n",
       "138  I am getting an iPhone 11 soon and I am watchi...   1.0    1.0   1.0   \n",
       "935    Hope to buy this . But where has the money ...    0.0    0.0   0.0   \n",
       "169  I & 39 ; m finding that I have all of the symp...   0.0    0.0   0.0   \n",
       "\n",
       "     label  \n",
       "198    0.0  \n",
       "380    1.0  \n",
       "239    1.0  \n",
       "693    0.0  \n",
       "595    0.0  \n",
       "..     ...  \n",
       "613    0.0  \n",
       "810    0.0  \n",
       "138    1.0  \n",
       "935    0.0  \n",
       "169    0.0  \n",
       "\n",
       "[1304 rows x 5 columns]"
      ]
     },
     "execution_count": 8,
     "metadata": {},
     "output_type": "execute_result"
    }
   ],
   "source": [
    "aaa"
   ]
  },
  {
   "cell_type": "code",
   "execution_count": 9,
   "metadata": {},
   "outputs": [],
   "source": [
    "aaa = aaa.reset_index(drop=True)"
   ]
  },
  {
   "cell_type": "code",
   "execution_count": 10,
   "metadata": {},
   "outputs": [],
   "source": [
    "aaa.to_csv('C:/Users/Anas/Downloads/sc dataset/finaldataset.csv',index=False, encoding='utf-8')"
   ]
  },
  {
   "cell_type": "code",
   "execution_count": 57,
   "metadata": {},
   "outputs": [],
   "source": [
    "aaa = pd.read_csv('C:/Users/Anas/Downloads/sc dataset//finaldataset.csv',encoding='utf-8', sep=',') "
   ]
  },
  {
   "cell_type": "code",
   "execution_count": 58,
   "metadata": {},
   "outputs": [
    {
     "data": {
      "text/plain": [
       "1304"
      ]
     },
     "execution_count": 58,
     "metadata": {},
     "output_type": "execute_result"
    }
   ],
   "source": [
    "len(aaa)"
   ]
  },
  {
   "cell_type": "code",
   "execution_count": 59,
   "metadata": {},
   "outputs": [],
   "source": [
    "df = pd.DataFrame(data=aaa.text)"
   ]
  },
  {
   "cell_type": "code",
   "execution_count": 60,
   "metadata": {},
   "outputs": [],
   "source": [
    "dg = pd.DataFrame(data=aaa.label)"
   ]
  },
  {
   "cell_type": "code",
   "execution_count": 74,
   "metadata": {},
   "outputs": [],
   "source": [
    "dy= pd.concat([df,dg],axis=1)\n"
   ]
  },
  {
   "cell_type": "code",
   "execution_count": 83,
   "metadata": {},
   "outputs": [],
   "source": [
    "dz = dy[\"label\"].round().astype(int)"
   ]
  },
  {
   "cell_type": "code",
   "execution_count": 84,
   "metadata": {},
   "outputs": [
    {
     "data": {
      "text/plain": [
       "0       0\n",
       "1       0\n",
       "2       0\n",
       "3       1\n",
       "4       0\n",
       "       ..\n",
       "1299    1\n",
       "1300    1\n",
       "1301    1\n",
       "1302    0\n",
       "1303    0\n",
       "Name: label, Length: 1304, dtype: int32"
      ]
     },
     "execution_count": 84,
     "metadata": {},
     "output_type": "execute_result"
    }
   ],
   "source": [
    "dz"
   ]
  },
  {
   "cell_type": "code",
   "execution_count": 85,
   "metadata": {},
   "outputs": [],
   "source": [
    "dy= pd.concat([df,dz],axis=1)"
   ]
  },
  {
   "cell_type": "code",
   "execution_count": 86,
   "metadata": {},
   "outputs": [
    {
     "data": {
      "text/html": [
       "<div>\n",
       "<style scoped>\n",
       "    .dataframe tbody tr th:only-of-type {\n",
       "        vertical-align: middle;\n",
       "    }\n",
       "\n",
       "    .dataframe tbody tr th {\n",
       "        vertical-align: top;\n",
       "    }\n",
       "\n",
       "    .dataframe thead th {\n",
       "        text-align: right;\n",
       "    }\n",
       "</style>\n",
       "<table border=\"1\" class=\"dataframe\">\n",
       "  <thead>\n",
       "    <tr style=\"text-align: right;\">\n",
       "      <th></th>\n",
       "      <th>text</th>\n",
       "      <th>label</th>\n",
       "    </tr>\n",
       "  </thead>\n",
       "  <tbody>\n",
       "    <tr>\n",
       "      <th>0</th>\n",
       "      <td>I have 8 of those symptoms</td>\n",
       "      <td>0</td>\n",
       "    </tr>\n",
       "    <tr>\n",
       "      <th>1</th>\n",
       "      <td>90 % of my friends used me : )</td>\n",
       "      <td>0</td>\n",
       "    </tr>\n",
       "    <tr>\n",
       "      <th>2</th>\n",
       "      <td>but you should also add that an overly simulat...</td>\n",
       "      <td>0</td>\n",
       "    </tr>\n",
       "    <tr>\n",
       "      <th>3</th>\n",
       "      <td>Liverpool FC need a 100,000 capacity stadium.....</td>\n",
       "      <td>1</td>\n",
       "    </tr>\n",
       "    <tr>\n",
       "      <th>4</th>\n",
       "      <td>I have all of them is that normal ?</td>\n",
       "      <td>0</td>\n",
       "    </tr>\n",
       "    <tr>\n",
       "      <th>...</th>\n",
       "      <td>...</td>\n",
       "      <td>...</td>\n",
       "    </tr>\n",
       "    <tr>\n",
       "      <th>1299</th>\n",
       "      <td>should i upgrade from at half broken oneplus 3...</td>\n",
       "      <td>1</td>\n",
       "    </tr>\n",
       "    <tr>\n",
       "      <th>1300</th>\n",
       "      <td>Anyone who takes me out from stress , tensions...</td>\n",
       "      <td>1</td>\n",
       "    </tr>\n",
       "    <tr>\n",
       "      <th>1301</th>\n",
       "      <td>Fascinating ...</td>\n",
       "      <td>1</td>\n",
       "    </tr>\n",
       "    <tr>\n",
       "      <th>1302</th>\n",
       "      <td>&amp; quot ; I don &amp; 39 ; t wan na die , i just wa...</td>\n",
       "      <td>0</td>\n",
       "    </tr>\n",
       "    <tr>\n",
       "      <th>1303</th>\n",
       "      <td>I feel like I &amp; 39 ; ve crushed the hopes and ...</td>\n",
       "      <td>0</td>\n",
       "    </tr>\n",
       "  </tbody>\n",
       "</table>\n",
       "<p>1304 rows × 2 columns</p>\n",
       "</div>"
      ],
      "text/plain": [
       "                                                   text  label\n",
       "0                            I have 8 of those symptoms      0\n",
       "1                        90 % of my friends used me : )      0\n",
       "2     but you should also add that an overly simulat...      0\n",
       "3     Liverpool FC need a 100,000 capacity stadium.....      1\n",
       "4                   I have all of them is that normal ?      0\n",
       "...                                                 ...    ...\n",
       "1299  should i upgrade from at half broken oneplus 3...      1\n",
       "1300  Anyone who takes me out from stress , tensions...      1\n",
       "1301                                   Fascinating ...       1\n",
       "1302  & quot ; I don & 39 ; t wan na die , i just wa...      0\n",
       "1303  I feel like I & 39 ; ve crushed the hopes and ...      0\n",
       "\n",
       "[1304 rows x 2 columns]"
      ]
     },
     "execution_count": 86,
     "metadata": {},
     "output_type": "execute_result"
    }
   ],
   "source": [
    "dy"
   ]
  },
  {
   "cell_type": "code",
   "execution_count": 7,
   "metadata": {},
   "outputs": [],
   "source": [
    "dz =dy.to_numpy()"
   ]
  },
  {
   "cell_type": "code",
   "execution_count": 8,
   "metadata": {},
   "outputs": [],
   "source": [
    "dz1 = dz[0:1043]"
   ]
  },
  {
   "cell_type": "code",
   "execution_count": 9,
   "metadata": {},
   "outputs": [],
   "source": [
    "dz2 = dz[1044:1174]"
   ]
  },
  {
   "cell_type": "code",
   "execution_count": 10,
   "metadata": {},
   "outputs": [],
   "source": [
    "dz2 = dz[1175:1304]"
   ]
  },
  {
   "cell_type": "code",
   "execution_count": null,
   "metadata": {},
   "outputs": [],
   "source": [
    "dz2"
   ]
  },
  {
   "cell_type": "code",
   "execution_count": 13,
   "metadata": {},
   "outputs": [
    {
     "data": {
      "text/plain": [
       "1304"
      ]
     },
     "execution_count": 13,
     "metadata": {},
     "output_type": "execute_result"
    }
   ],
   "source": [
    "df.size"
   ]
  },
  {
   "cell_type": "code",
   "execution_count": 26,
   "metadata": {},
   "outputs": [
    {
     "data": {
      "text/plain": [
       "array([0.0, 0.0, 0.0, ..., 1.0, 0.0, 0.0], dtype=object)"
      ]
     },
     "execution_count": 26,
     "metadata": {},
     "output_type": "execute_result"
    }
   ],
   "source": [
    "dz[:,1]"
   ]
  },
  {
   "cell_type": "code",
   "execution_count": 87,
   "metadata": {},
   "outputs": [
    {
     "name": "stdout",
     "output_type": "stream",
     "text": [
      "                                                   text  label\n",
      "87            You should make a video on Belleau Wood .      1\n",
      "655   Im with my Ps5 , even one day i will get new x...      1\n",
      "531   When it has been a year so you can now buy an ...      1\n",
      "69    Me , an anti-vaccine probably wont take it . T...      0\n",
      "915   Did they placed the fidelity and performance m...      0\n",
      "...                                                 ...    ...\n",
      "936                                      purples better      1\n",
      "1027  If I was an American soldier I would just spin...      1\n",
      "732                                    Green is lovely       1\n",
      "1158           never have i ever had so many goosebumps      1\n",
      "801   How to get out from depression and be happy ag...      1\n",
      "\n",
      "[1043 rows x 2 columns]\n"
     ]
    }
   ],
   "source": [
    "first_split = dy.sample(frac=0.8,random_state=200)\n",
    "print(first_split)"
   ]
  },
  {
   "cell_type": "code",
   "execution_count": 88,
   "metadata": {},
   "outputs": [
    {
     "name": "stdout",
     "output_type": "stream",
     "text": [
      "                                                   text  label\n",
      "0                            I have 8 of those symptoms      0\n",
      "10                 People are dying after vaccination .      0\n",
      "15             in my country iPhone 11 128gb is $ 1000+      1\n",
      "17                 sometimes depression see the reality      0\n",
      "18                              I have all the symptoms      0\n",
      "...                                                 ...    ...\n",
      "1272  If you & 39 ; re depressed , don & 39 ; t read...      0\n",
      "1275  You don ’ t know it ’ s harmless ! You are no ...      0\n",
      "1277  Mané is one of the main reasons we won this cu...      1\n",
      "1278  I think I am going to kill myself . Maybe not ...      0\n",
      "1295  An instantly forgettable game . Certainly the ...      1\n",
      "\n",
      "[261 rows x 2 columns]\n"
     ]
    }
   ],
   "source": [
    "second_split=dy.drop(first_split.index)\n",
    "print(second_split)"
   ]
  },
  {
   "cell_type": "code",
   "execution_count": 89,
   "metadata": {},
   "outputs": [
    {
     "name": "stdout",
     "output_type": "stream",
     "text": [
      "                                                   text  label\n",
      "710                                        Stop lying !      0\n",
      "613         What tv are u using with that ps5 console ?      1\n",
      "706                    wtf i have all of those symptoms      0\n",
      "1272  If you & 39 ; re depressed , don & 39 ; t read...      0\n",
      "1275  You don ’ t know it ’ s harmless ! You are no ...      0\n",
      "...                                                 ...    ...\n",
      "151   Can anyone please explain why we are getting t...      0\n",
      "364   WOW , unsubscribing . That ’ s what we are doi...      0\n",
      "774    This was the most boring cl final i ever witness      0\n",
      "1172                 me sitting here with an iphone SE       1\n",
      "550                         origi is best supersub ever      1\n",
      "\n",
      "[130 rows x 2 columns]\n"
     ]
    }
   ],
   "source": [
    "third_split = second_split.sample(frac=0.5,random_state=200)\n",
    "print(third_split)"
   ]
  },
  {
   "cell_type": "code",
   "execution_count": 90,
   "metadata": {},
   "outputs": [
    {
     "name": "stdout",
     "output_type": "stream",
     "text": [
      "                                                   text  label\n",
      "0                            I have 8 of those symptoms      0\n",
      "10                 People are dying after vaccination .      0\n",
      "17                 sometimes depression see the reality      0\n",
      "29                        Please the link of full movie      1\n",
      "52    MeDiCaL tYrRAnY iS GoOd ! ! Pshh ! You people ...      0\n",
      "...                                                 ...    ...\n",
      "1240  would anyone believe me if i said ive been dea...      0\n",
      "1253  Well , there is death ... ... .I mean , I gues...      0\n",
      "1263  I hope this tune helps someone else . I wrote ...      1\n",
      "1270                 Petition to make iphone 11 in blue      1\n",
      "1271                          Really informative video       1\n",
      "\n",
      "[131 rows x 2 columns]\n"
     ]
    }
   ],
   "source": [
    "fourth_split=second_split.drop(third_split.index)\n",
    "print(fourth_split)"
   ]
  },
  {
   "cell_type": "code",
   "execution_count": 91,
   "metadata": {},
   "outputs": [],
   "source": [
    "first_split.to_csv('C:/Users/Anas/Downloads/sc dataset/Train.csv',index=False, encoding='utf-8')\n",
    "third_split.to_csv('C:/Users/Anas/Downloads/sc dataset/Val.csv',index=False, encoding='utf-8')\n",
    "fourth_split.to_csv('C:/Users/Anas/Downloads/sc dataset/Test.csv',index=False, encoding='utf-8')\n"
   ]
  }
 ],
 "metadata": {
  "kernelspec": {
   "display_name": "Python 3",
   "language": "python",
   "name": "python3"
  },
  "language_info": {
   "codemirror_mode": {
    "name": "ipython",
    "version": 3
   },
   "file_extension": ".py",
   "mimetype": "text/x-python",
   "name": "python",
   "nbconvert_exporter": "python",
   "pygments_lexer": "ipython3",
   "version": "3.8.5"
  }
 },
 "nbformat": 4,
 "nbformat_minor": 4
}
